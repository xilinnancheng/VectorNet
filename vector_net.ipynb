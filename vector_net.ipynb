{
 "cells": [
  {
   "cell_type": "markdown",
   "metadata": {},
   "source": [
    "1.从argoverse获取主车周围HD地图相关元素\n",
    "2.从数据获取Agent、Obstacle历史轨迹和Agent未来轨迹ground truth"
   ]
  },
  {
   "cell_type": "code",
   "execution_count": 6,
   "metadata": {},
   "outputs": [
    {
     "name": "stderr",
     "output_type": "stream",
     "text": [
      "  0%|          | 0/14 [00:00<?, ?it/s]\n"
     ]
    },
    {
     "name": "stdout",
     "output_type": "stream",
     "text": [
      "/root/VectorNet/mydata/test/11800.csv\n",
      "19 19\n",
      "00000000-0000-0000-0000-000000000000 20\n",
      "19 19\n",
      "00000000-0000-0000-0000-000000182335 20\n",
      "19 19\n",
      "00000000-0000-0000-0000-000000182420 20\n",
      "19 19\n",
      "00000000-0000-0000-0000-000000182460 20\n",
      "19 19\n",
      "00000000-0000-0000-0000-000000182503 20\n",
      "19 19\n",
      "00000000-0000-0000-0000-000000182529 20\n",
      "19 19\n",
      "00000000-0000-0000-0000-000000182534 20\n",
      "19 19\n",
      "00000000-0000-0000-0000-000000182565 20\n",
      "19 19\n",
      "00000000-0000-0000-0000-000000182586 20\n",
      "19 19\n",
      "00000000-0000-0000-0000-000000182600 20\n",
      "19 19\n",
      "00000000-0000-0000-0000-000000182613 20\n",
      "19 19\n",
      "00000000-0000-0000-0000-000000182636 20\n",
      "19 19\n",
      "00000000-0000-0000-0000-000000182639 20\n",
      "19 19\n",
      "00000000-0000-0000-0000-000000182667 20\n",
      "19 19\n",
      "00000000-0000-0000-0000-000000182683 20\n",
      "7 7\n",
      "00000000-0000-0000-0000-000000182685 8\n",
      "19 19\n",
      "00000000-0000-0000-0000-000000182688 20\n",
      "5 5\n",
      "00000000-0000-0000-0000-000000182690 6\n"
     ]
    },
    {
     "ename": "ValueError",
     "evalue": "not enough values to unpack (expected 2, got 0)",
     "output_type": "error",
     "traceback": [
      "\u001b[0;31m---------------------------------------------------------------------------\u001b[0m",
      "\u001b[0;31mValueError\u001b[0m                                Traceback (most recent call last)",
      "Input \u001b[0;32mIn [6]\u001b[0m, in \u001b[0;36m<cell line: 22>\u001b[0;34m()\u001b[0m\n\u001b[1;32m     33\u001b[0m path, name \u001b[38;5;241m=\u001b[39m os\u001b[38;5;241m.\u001b[39mpath\u001b[38;5;241m.\u001b[39msplit(name)\n\u001b[1;32m     34\u001b[0m name, ext \u001b[38;5;241m=\u001b[39m os\u001b[38;5;241m.\u001b[39mpath\u001b[38;5;241m.\u001b[39msplitext(name)\n\u001b[1;32m     35\u001b[0m agent_feature, obj_feature_list, lane_feature_list, norm_center \u001b[38;5;241m=\u001b[39m (\n\u001b[0;32m---> 36\u001b[0m     \u001b[43mcompute_feature_for_one_seq\u001b[49m\u001b[43m(\u001b[49m\n\u001b[1;32m     37\u001b[0m \u001b[43m        \u001b[49m\u001b[43marg_for_loader\u001b[49m\u001b[38;5;241;43m.\u001b[39;49m\u001b[43mseq_df\u001b[49m\u001b[43m,\u001b[49m\n\u001b[1;32m     38\u001b[0m \u001b[43m        \u001b[49m\u001b[43mam\u001b[49m\u001b[43m,\u001b[49m\n\u001b[1;32m     39\u001b[0m \u001b[43m        \u001b[49m\u001b[43mOBS_LEN\u001b[49m\u001b[43m,\u001b[49m\n\u001b[1;32m     40\u001b[0m \u001b[43m        \u001b[49m\u001b[43mLANE_RADIUS\u001b[49m\u001b[43m,\u001b[49m\n\u001b[1;32m     41\u001b[0m \u001b[43m        \u001b[49m\u001b[43mOBJ_RADIUS\u001b[49m\u001b[43m,\u001b[49m\n\u001b[1;32m     42\u001b[0m \u001b[43m        \u001b[49m\u001b[43mviz\u001b[49m\u001b[38;5;241;43m=\u001b[39;49m\u001b[38;5;28;43;01mFalse\u001b[39;49;00m\u001b[43m,\u001b[49m\n\u001b[1;32m     43\u001b[0m \u001b[43m        \u001b[49m\u001b[43mmode\u001b[49m\u001b[38;5;241;43m=\u001b[39;49m\u001b[38;5;124;43m\"\u001b[39;49m\u001b[38;5;124;43mnearby\u001b[39;49m\u001b[38;5;124;43m\"\u001b[39;49m\u001b[43m,\u001b[49m\n\u001b[1;32m     44\u001b[0m \u001b[43m    \u001b[49m\u001b[43m)\u001b[49m\n\u001b[1;32m     45\u001b[0m )\n\u001b[1;32m     46\u001b[0m \u001b[38;5;28;01mbreak\u001b[39;00m\n\u001b[1;32m     48\u001b[0m df \u001b[38;5;241m=\u001b[39m encode_features(\n\u001b[1;32m     49\u001b[0m     agent_feature, obj_feature_list, lane_feature_list\n\u001b[1;32m     50\u001b[0m )\n",
      "File \u001b[0;32m~/VectorNet/utils/feature_utils.py:97\u001b[0m, in \u001b[0;36mcompute_feature_for_one_seq\u001b[0;34m(traj_df, am, obs_len, lane_radius, obj_radius, viz, mode, query_bbox)\u001b[0m\n\u001b[1;32m     84\u001b[0m lane_feature_ls \u001b[38;5;241m=\u001b[39m get_nearby_lane_feature_ls(\n\u001b[1;32m     85\u001b[0m     am,\n\u001b[1;32m     86\u001b[0m     agent_df,\n\u001b[0;32m   (...)\u001b[0m\n\u001b[1;32m     92\u001b[0m     query_bbox\u001b[38;5;241m=\u001b[39mquery_bbox,\n\u001b[1;32m     93\u001b[0m )\n\u001b[1;32m     94\u001b[0m \u001b[38;5;66;03m# pdb.set_trace()\u001b[39;00m\n\u001b[1;32m     95\u001b[0m \n\u001b[1;32m     96\u001b[0m \u001b[38;5;66;03m# search nearby moving objects from the last observed point of agent\u001b[39;00m\n\u001b[0;32m---> 97\u001b[0m obj_feature_ls \u001b[38;5;241m=\u001b[39m \u001b[43mget_nearby_moving_obj_feature_ls\u001b[49m\u001b[43m(\u001b[49m\n\u001b[1;32m     98\u001b[0m \u001b[43m    \u001b[49m\u001b[43magent_df\u001b[49m\u001b[43m,\u001b[49m\u001b[43m \u001b[49m\u001b[43mtraj_df\u001b[49m\u001b[43m,\u001b[49m\u001b[43m \u001b[49m\u001b[43mobs_len\u001b[49m\u001b[43m,\u001b[49m\u001b[43m \u001b[49m\u001b[43mseq_ts\u001b[49m\u001b[43m,\u001b[49m\u001b[43m \u001b[49m\u001b[43mnorm_center\u001b[49m\n\u001b[1;32m     99\u001b[0m \u001b[43m\u001b[49m\u001b[43m)\u001b[49m\n\u001b[1;32m    100\u001b[0m \u001b[38;5;66;03m# get agent features\u001b[39;00m\n\u001b[1;32m    101\u001b[0m agent_feature \u001b[38;5;241m=\u001b[39m get_agent_feature_ls(agent_df, obs_len, norm_center)\n",
      "File \u001b[0;32m~/VectorNet/utils/object_utils.py:148\u001b[0m, in \u001b[0;36mget_nearby_moving_obj_feature_ls\u001b[0;34m(agent_df, traj_df, obs_len, seq_ts, norm_center)\u001b[0m\n\u001b[1;32m    145\u001b[0m     \u001b[38;5;28;01mcontinue\u001b[39;00m\n\u001b[1;32m    147\u001b[0m remain_df_len \u001b[38;5;241m=\u001b[39m \u001b[38;5;28mlen\u001b[39m(remain_df[\u001b[38;5;124m\"\u001b[39m\u001b[38;5;124mX\u001b[39m\u001b[38;5;124m\"\u001b[39m]\u001b[38;5;241m.\u001b[39mvalues)\n\u001b[0;32m--> 148\u001b[0m is_stationary \u001b[38;5;241m=\u001b[39m \u001b[43mget_is_track_stationary\u001b[49m\u001b[43m(\u001b[49m\n\u001b[1;32m    149\u001b[0m \u001b[43m    \u001b[49m\u001b[43mremain_df\u001b[49m\u001b[43m)\u001b[49m\n\u001b[1;32m    150\u001b[0m \u001b[38;5;28mprint\u001b[39m(track_id, remain_df_len)\n\u001b[1;32m    151\u001b[0m \u001b[38;5;28;01mif\u001b[39;00m remain_df_len \u001b[38;5;241m<\u001b[39m EXIST_THRESHOLD \u001b[38;5;129;01mor\u001b[39;00m is_stationary:\n",
      "File \u001b[0;32m~/VectorNet/utils/object_utils.py:58\u001b[0m, in \u001b[0;36mget_is_track_stationary\u001b[0;34m(track_df)\u001b[0m\n\u001b[1;32m     49\u001b[0m \u001b[38;5;28;01mdef\u001b[39;00m \u001b[38;5;21mget_is_track_stationary\u001b[39m(track_df: pd\u001b[38;5;241m.\u001b[39mDataFrame) \u001b[38;5;241m-\u001b[39m\u001b[38;5;241m>\u001b[39m \u001b[38;5;28mbool\u001b[39m:\n\u001b[1;32m     50\u001b[0m     \u001b[38;5;124;03m\"\"\"Check if the track is stationary.\u001b[39;00m\n\u001b[1;32m     51\u001b[0m \n\u001b[1;32m     52\u001b[0m \u001b[38;5;124;03m    Args:\u001b[39;00m\n\u001b[0;32m   (...)\u001b[0m\n\u001b[1;32m     56\u001b[0m \n\u001b[1;32m     57\u001b[0m \u001b[38;5;124;03m    \"\"\"\u001b[39;00m\n\u001b[0;32m---> 58\u001b[0m     vel \u001b[38;5;241m=\u001b[39m \u001b[43mcompute_velocity\u001b[49m\u001b[43m(\u001b[49m\u001b[43mtrack_df\u001b[49m\u001b[43m)\u001b[49m\n\u001b[1;32m     59\u001b[0m     sorted_vel \u001b[38;5;241m=\u001b[39m \u001b[38;5;28msorted\u001b[39m(vel)\n\u001b[1;32m     60\u001b[0m     threshold_vel \u001b[38;5;241m=\u001b[39m sorted_vel[\u001b[38;5;28mint\u001b[39m(\u001b[38;5;28mlen\u001b[39m(vel) \u001b[38;5;241m/\u001b[39m \u001b[38;5;241m2\u001b[39m)]\n",
      "File \u001b[0;32m~/VectorNet/utils/object_utils.py:30\u001b[0m, in \u001b[0;36mcompute_velocity\u001b[0;34m(track_df)\u001b[0m\n\u001b[1;32m     28\u001b[0m y_coord \u001b[38;5;241m=\u001b[39m track_df[\u001b[38;5;124m\"\u001b[39m\u001b[38;5;124mY\u001b[39m\u001b[38;5;124m\"\u001b[39m]\u001b[38;5;241m.\u001b[39mvalues\n\u001b[1;32m     29\u001b[0m timestamp \u001b[38;5;241m=\u001b[39m track_df[\u001b[38;5;124m\"\u001b[39m\u001b[38;5;124mTIMESTAMP\u001b[39m\u001b[38;5;124m\"\u001b[39m]\u001b[38;5;241m.\u001b[39mvalues\n\u001b[0;32m---> 30\u001b[0m vel_x, vel_y \u001b[38;5;241m=\u001b[39m \u001b[38;5;28mzip\u001b[39m(\n\u001b[1;32m     31\u001b[0m     \u001b[38;5;241m*\u001b[39m[\n\u001b[1;32m     32\u001b[0m         (\n\u001b[1;32m     33\u001b[0m             x_coord[i]\n\u001b[1;32m     34\u001b[0m             \u001b[38;5;241m-\u001b[39m x_coord[i \u001b[38;5;241m-\u001b[39m \u001b[38;5;241m1\u001b[39m]\n\u001b[1;32m     35\u001b[0m             \u001b[38;5;241m/\u001b[39m (\u001b[38;5;28mfloat\u001b[39m(timestamp[i]) \u001b[38;5;241m-\u001b[39m \u001b[38;5;28mfloat\u001b[39m(timestamp[i \u001b[38;5;241m-\u001b[39m \u001b[38;5;241m1\u001b[39m])),\n\u001b[1;32m     36\u001b[0m             y_coord[i]\n\u001b[1;32m     37\u001b[0m             \u001b[38;5;241m-\u001b[39m y_coord[i \u001b[38;5;241m-\u001b[39m \u001b[38;5;241m1\u001b[39m]\n\u001b[1;32m     38\u001b[0m             \u001b[38;5;241m/\u001b[39m (\u001b[38;5;28mfloat\u001b[39m(timestamp[i]) \u001b[38;5;241m-\u001b[39m \u001b[38;5;28mfloat\u001b[39m(timestamp[i \u001b[38;5;241m-\u001b[39m \u001b[38;5;241m1\u001b[39m])),\n\u001b[1;32m     39\u001b[0m         )\n\u001b[1;32m     40\u001b[0m         \u001b[38;5;28;01mfor\u001b[39;00m i \u001b[38;5;129;01min\u001b[39;00m \u001b[38;5;28mrange\u001b[39m(\u001b[38;5;241m1\u001b[39m, \u001b[38;5;28mlen\u001b[39m(timestamp))\n\u001b[1;32m     41\u001b[0m     ]\n\u001b[1;32m     42\u001b[0m )\n\u001b[1;32m     43\u001b[0m \u001b[38;5;28mprint\u001b[39m(\u001b[38;5;28mlen\u001b[39m(vel_x), \u001b[38;5;28mlen\u001b[39m(vel_y))\n\u001b[1;32m     44\u001b[0m vel \u001b[38;5;241m=\u001b[39m [np\u001b[38;5;241m.\u001b[39msqrt(x\u001b[38;5;241m*\u001b[39m\u001b[38;5;241m*\u001b[39m\u001b[38;5;241m2\u001b[39m \u001b[38;5;241m+\u001b[39m y\u001b[38;5;241m*\u001b[39m\u001b[38;5;241m*\u001b[39m\u001b[38;5;241m2\u001b[39m) \u001b[38;5;28;01mfor\u001b[39;00m x, y \u001b[38;5;129;01min\u001b[39;00m \u001b[38;5;28mzip\u001b[39m(vel_x, vel_y)]\n",
      "\u001b[0;31mValueError\u001b[0m: not enough values to unpack (expected 2, got 0)"
     ]
    }
   ],
   "source": [
    "%reload_ext autoreload\n",
    "%autoreload 2\n",
    "from utils.feature_utils import (\n",
    "    compute_feature_for_one_seq,\n",
    "    encode_features,\n",
    "    save_features,\n",
    ")\n",
    "from argoverse.data_loading.argoverse_forecasting_loader import (\n",
    "    ArgoverseForecastingLoader,\n",
    ")\n",
    "from argoverse.map_representation.map_api import ArgoverseMap\n",
    "import os\n",
    "from utils.config import (\n",
    "    DATA_DIR,\n",
    "    OBS_LEN,\n",
    "    LANE_RADIUS,\n",
    "    OBJ_RADIUS,\n",
    "    INTERMEDIATE_DATA_DIR,\n",
    ")\n",
    "from tqdm import tqdm\n",
    "\n",
    "if __name__ == \"__main__\":\n",
    "    am = ArgoverseMap()\n",
    "\n",
    "    for folder in os.listdir(DATA_DIR):\n",
    "        arg_for_loader = ArgoverseForecastingLoader(\n",
    "            os.path.join(DATA_DIR, folder)\n",
    "        )\n",
    "\n",
    "        norm_center = {}\n",
    "        for name in tqdm(arg_for_loader.seq_list):\n",
    "            print(name)\n",
    "            path, name = os.path.split(name)\n",
    "            name, ext = os.path.splitext(name)\n",
    "            agent_feature, obj_feature_list, lane_feature_list, norm_center = (\n",
    "                compute_feature_for_one_seq(\n",
    "                    arg_for_loader.seq_df,\n",
    "                    am,\n",
    "                    OBS_LEN,\n",
    "                    LANE_RADIUS,\n",
    "                    OBJ_RADIUS,\n",
    "                    viz=False,\n",
    "                    mode=\"nearby\",\n",
    "                )\n",
    "            )\n",
    "            break\n",
    "\n",
    "            df = encode_features(\n",
    "                agent_feature, obj_feature_list, lane_feature_list\n",
    "            )\n",
    "            save_features(\n",
    "                df,\n",
    "                name,\n",
    "                os.path.join(INTERMEDIATE_DATA_DIR, f\"{folder}_intermediate\"),\n",
    "            )"
   ]
  }
 ],
 "metadata": {
  "kernelspec": {
   "display_name": "base",
   "language": "python",
   "name": "python3"
  },
  "language_info": {
   "codemirror_mode": {
    "name": "ipython",
    "version": 3
   },
   "file_extension": ".py",
   "mimetype": "text/x-python",
   "name": "python",
   "nbconvert_exporter": "python",
   "pygments_lexer": "ipython3",
   "version": "3.8.10"
  }
 },
 "nbformat": 4,
 "nbformat_minor": 2
}
